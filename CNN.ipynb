{
  "nbformat": 4,
  "nbformat_minor": 0,
  "metadata": {
    "colab": {
      "private_outputs": true,
      "provenance": [],
      "mount_file_id": "1Tj6MwQucyHlOv7gDehq1cdPrMaQwC8nr",
      "authorship_tag": "ABX9TyMofoCkjh2bQP97v1phifYt",
      "include_colab_link": true
    },
    "kernelspec": {
      "name": "python3",
      "display_name": "Python 3"
    },
    "language_info": {
      "name": "python"
    }
  },
  "cells": [
    {
      "cell_type": "markdown",
      "metadata": {
        "id": "view-in-github",
        "colab_type": "text"
      },
      "source": [
        "<a href=\"https://colab.research.google.com/github/MohamedElSobkey/Convolutional-Neural-Networks/blob/main/CNN.ipynb\" target=\"_parent\"><img src=\"https://colab.research.google.com/assets/colab-badge.svg\" alt=\"Open In Colab\"/></a>"
      ]
    },
    {
      "cell_type": "code",
      "execution_count": null,
      "metadata": {
        "id": "rGcCd45IFi_-"
      },
      "outputs": [],
      "source": [
        "import tensorflow as tf\n",
        "import keras,os,cv2\n",
        "import matplotlib.pyplot as plt\n",
        "import numpy as np"
      ]
    },
    {
      "cell_type": "code",
      "source": [
        "ImagesPath= '/content/drive/MyDrive/Images'\n",
        "Images = os.listdir(ImagesPath)"
      ],
      "metadata": {
        "id": "_zNLdcNDIe1g"
      },
      "execution_count": null,
      "outputs": []
    },
    {
      "cell_type": "code",
      "source": [
        "len(Images)"
      ],
      "metadata": {
        "id": "c4zgo33KIVP5"
      },
      "execution_count": null,
      "outputs": []
    },
    {
      "cell_type": "code",
      "source": [
        "Images[0]"
      ],
      "metadata": {
        "id": "wELez9ZAIz27"
      },
      "execution_count": null,
      "outputs": []
    },
    {
      "cell_type": "code",
      "source": [
        "img=cv2.imread(os.path.join(ImagesPath,Images[0]))\n",
        "img"
      ],
      "metadata": {
        "id": "utdQlpY4I8Yd"
      },
      "execution_count": null,
      "outputs": []
    },
    {
      "cell_type": "code",
      "source": [
        "img.shape"
      ],
      "metadata": {
        "id": "XBTOVQLtT5k9"
      },
      "execution_count": null,
      "outputs": []
    },
    {
      "cell_type": "code",
      "source": [
        "img[0]"
      ],
      "metadata": {
        "id": "fqgql3dmTyqW"
      },
      "execution_count": null,
      "outputs": []
    },
    {
      "cell_type": "code",
      "source": [
        "img[0][0]"
      ],
      "metadata": {
        "id": "GEMBBNUTUGlM"
      },
      "execution_count": null,
      "outputs": []
    },
    {
      "cell_type": "code",
      "source": [
        "img.shape"
      ],
      "metadata": {
        "id": "1T6kHUBjULJV"
      },
      "execution_count": null,
      "outputs": []
    },
    {
      "cell_type": "code",
      "source": [
        "img=cv2.cvtColor(img,cv2.COLOR_BGR2GRAY)"
      ],
      "metadata": {
        "id": "a8k0oxEnUPFn"
      },
      "execution_count": null,
      "outputs": []
    },
    {
      "cell_type": "code",
      "source": [
        "img.shape"
      ],
      "metadata": {
        "id": "Wvw5y4lpUV3V"
      },
      "execution_count": null,
      "outputs": []
    },
    {
      "cell_type": "code",
      "source": [
        "img[0]"
      ],
      "metadata": {
        "id": "ejXzHxGFUY0W"
      },
      "execution_count": null,
      "outputs": []
    },
    {
      "cell_type": "code",
      "source": [
        "plt.imshow(img, cmap='gray')\n",
        "plt.show()"
      ],
      "metadata": {
        "id": "2DxerVTvUbfy"
      },
      "execution_count": null,
      "outputs": []
    },
    {
      "cell_type": "code",
      "source": [
        "for i in range(5) :\n",
        "  img=cv2.imread(os.path.join(ImagesPath,np.random.choice(Images)))\n",
        "  plt.imshow(img)\n",
        "  plt.show()"
      ],
      "metadata": {
        "id": "vZL79GqDUfuB"
      },
      "execution_count": null,
      "outputs": []
    },
    {
      "cell_type": "code",
      "source": [
        "for i in range(5) :\n",
        "  img=cv2.imread(os.path.join(ImagesPath,np.random.choice(Images)))\n",
        "  img=cv2.cvtColor(img,cv2.COLOR_BGR2GRAY)\n",
        "  plt.imshow(img, cmap='gray')\n",
        "  plt.show()"
      ],
      "metadata": {
        "id": "DrbLZ6rAUmS-"
      },
      "execution_count": null,
      "outputs": []
    },
    {
      "cell_type": "code",
      "source": [
        "AllSizes = []\n",
        "for img in  os.listdir(ImagesPath) :\n",
        "  img=cv2.imread(os.path.join(ImagesPath,img))\n",
        "  AllSizes.append(img.shape)\n",
        "set(AllSizes) # doesn't repeat values"
      ],
      "metadata": {
        "id": "5vN8Hy6LUux_"
      },
      "execution_count": null,
      "outputs": []
    },
    {
      "cell_type": "code",
      "source": [
        "W,H = 100 ,120\n",
        "for i in range(5) :\n",
        "  img=cv2.imread(os.path.join(ImagesPath,np.random.choice(Images)))\n",
        "  img=cv2.cvtColor(img,cv2.COLOR_BGR2GRAY)\n",
        "  img = cv2.resize(img, (H,W))\n",
        "  plt.imshow(img, cmap='gray')\n",
        "  plt.show()"
      ],
      "metadata": {
        "id": "KowbmZCTU8Zy"
      },
      "execution_count": null,
      "outputs": []
    },
    {
      "cell_type": "code",
      "source": [
        "img"
      ],
      "metadata": {
        "id": "jEZiGnCZVEW3"
      },
      "execution_count": null,
      "outputs": []
    },
    {
      "cell_type": "code",
      "source": [
        "img.shape"
      ],
      "metadata": {
        "id": "0Icyw7pwVJv3"
      },
      "execution_count": null,
      "outputs": []
    },
    {
      "cell_type": "code",
      "source": [
        "img = img.reshape(100,120,1)\n",
        "img.shape"
      ],
      "metadata": {
        "id": "giX9f03VVPQn"
      },
      "execution_count": null,
      "outputs": []
    },
    {
      "cell_type": "code",
      "source": [
        "ImagesArray = []\n",
        "W,H = 100 ,120\n",
        "for img in os.listdir(ImagesPath):\n",
        "  img = cv2.imread(os.path.join(ImagesPath,img) ,cv2.IMREAD_GRAYSCALE)\n",
        "  img = cv2.resize(img, (H,W))\n",
        "  img = img.reshape(H,W,1)\n",
        "  ImagesArray.append(img)\n",
        "len(ImagesArray)"
      ],
      "metadata": {
        "id": "nsoSnzj9VS1B"
      },
      "execution_count": null,
      "outputs": []
    },
    {
      "cell_type": "code",
      "source": [
        "y = [np.random.choice([0,1]) for i in range(250)]\n",
        "y"
      ],
      "metadata": {
        "id": "7T-PqeXwVcXf"
      },
      "execution_count": null,
      "outputs": []
    },
    {
      "cell_type": "code",
      "source": [
        "from sklearn.model_selection import train_test_split\n",
        "\n",
        "X_train, X_test, y_train, y_test = train_test_split(np.array(ImagesArray), np.array(y), test_size=0.25, random_state=44, shuffle =True)\n",
        "\n",
        "print('X_train shape is ' , X_train.shape)\n",
        "print('X_test shape is ' , X_test.shape)\n",
        "print('y_train shape is ' , y_train.shape)\n",
        "print('y_test shape is ' , y_test.shape)"
      ],
      "metadata": {
        "id": "trVT2PVfVfyG"
      },
      "execution_count": null,
      "outputs": []
    },
    {
      "cell_type": "code",
      "source": [
        "KerasModel = keras.models.Sequential([\n",
        "        keras.layers.Conv2D(filters = 32, kernel_size = (3,3),strides = (1,1), padding = 'VALID' ,input_shape = (H,W,1)),# SAME applied # VALID not applied padding\n",
        "        keras.layers.MaxPooling2D(pool_size = (2,2), strides = (2,2)),\n",
        "        keras.layers.BatchNormalization(),\n",
        "        keras.layers.Conv2D(filters = 32, kernel_size = (4,4),strides = (1,1), padding = 'VALID'  ),\n",
        "        keras.layers.MaxPooling2D(pool_size = (2,2), strides = (2,2)),\n",
        "        keras.layers.BatchNormalization(),\n",
        "        keras.layers.Flatten(),\n",
        "        keras.layers.Dense(128, activation = tf.nn.relu),\n",
        "        keras.layers.Dropout(0.2),\n",
        "        keras.layers.Dense(1, activation = tf.nn.sigmoid),\n",
        "        ])"
      ],
      "metadata": {
        "id": "BnGBa6cuVkr9"
      },
      "execution_count": null,
      "outputs": []
    },
    {
      "cell_type": "code",
      "source": [
        "KerasModel.compile(optimizer ='adam',loss='binary_crossentropy',metrics=['accuracy'])"
      ],
      "metadata": {
        "id": "A1-g4RxjWOr7"
      },
      "execution_count": null,
      "outputs": []
    },
    {
      "cell_type": "code",
      "source": [
        "KerasModel.fit(X_train, y_train, epochs=10)"
      ],
      "metadata": {
        "id": "LpYJAkgaWRTC"
      },
      "execution_count": null,
      "outputs": []
    },
    {
      "cell_type": "code",
      "source": [
        "print(KerasModel.summary())"
      ],
      "metadata": {
        "id": "v-qL8_SeWfUB"
      },
      "execution_count": null,
      "outputs": []
    }
  ]
}